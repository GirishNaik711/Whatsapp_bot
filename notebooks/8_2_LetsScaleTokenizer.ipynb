{
 "cells": [
  {
   "cell_type": "code",
   "execution_count": null,
   "id": "15da59d7",
   "metadata": {},
   "outputs": [],
   "source": [
    "with open(\"path\", \"r\") as f:\n",
    "    number_of_characters_to_read = 10_000_000\n",
    "    text_sequence = f.read(number_of_characters_to_read)\n",
    "\n",
    "len(text_sequence)"
   ]
  },
  {
   "cell_type": "code",
   "execution_count": null,
   "id": "ca080935",
   "metadata": {},
   "outputs": [],
   "source": [
    "import sys\n",
    "sys.path.append('..')"
   ]
  },
  {
   "cell_type": "code",
   "execution_count": null,
   "id": "3163cdbb",
   "metadata": {},
   "outputs": [],
   "source": [
    "from minbpe import RegexTokenizer\n",
    "\n",
    "tokenizer = RegexTokenizer()\n",
    "tokenizer.train(text_sequence, vocab_size=16_384)"
   ]
  },
  {
   "cell_type": "code",
   "execution_count": null,
   "id": "b8d8576e",
   "metadata": {},
   "outputs": [],
   "source": [
    "vocab = tokenizer.vocab\n",
    "vocab"
   ]
  },
  {
   "cell_type": "code",
   "execution_count": null,
   "id": "3feaf70e",
   "metadata": {},
   "outputs": [],
   "source": [
    "tokenizer.encode(\"hello\")"
   ]
  },
  {
   "cell_type": "code",
   "execution_count": null,
   "id": "096cf336",
   "metadata": {},
   "outputs": [],
   "source": [
    "tokenizer.decode([83, 1813, 3363, 32, 7312, 3770, 115])"
   ]
  },
  {
   "cell_type": "code",
   "execution_count": null,
   "id": "aca260a2",
   "metadata": {},
   "outputs": [],
   "source": [
    "max_vocab_id = list(tokenizer.vocab.keys())[-1]\n",
    "tokenizer.special_tokens = {\n",
    "    \"<|startoftext|>\": max_vocab_id + 1,\n",
    "    \"<|separator|>\": max_vocab_id + 2,\n",
    "    \"<|endoftext|>\": max_vocab_id + 3,\n",
    "    \"<|unk|>\": max_vocab_id + 4,\n",
    "    \"<|padding|>\": max_vocab_id + 5\n",
    "}"
   ]
  },
  {
   "cell_type": "code",
   "execution_count": null,
   "id": "d31127ce",
   "metadata": {},
   "outputs": [],
   "source": [
    "tokenizer.save(file_prefix=\"../output/tokenizer/darija_tokenizer\")"
   ]
  }
 ],
 "metadata": {
  "language_info": {
   "name": "python"
  }
 },
 "nbformat": 4,
 "nbformat_minor": 5
}
