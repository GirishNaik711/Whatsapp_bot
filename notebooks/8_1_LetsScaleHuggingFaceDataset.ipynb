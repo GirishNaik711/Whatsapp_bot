{
 "cells": [
  {
   "cell_type": "code",
   "execution_count": null,
   "id": "b450e07f",
   "metadata": {},
   "outputs": [],
   "source": [
    "from huggingface_hub import login\n",
    "login()"
   ]
  },
  {
   "cell_type": "code",
   "execution_count": null,
   "id": "0b26d387",
   "metadata": {},
   "outputs": [],
   "source": [
    "from datasets import load_dataset\n",
    "\n",
    "dataset = load_dataset(\"atlasia/Atlaset\")"
   ]
  },
  {
   "cell_type": "code",
   "execution_count": null,
   "id": "f8c77a2c",
   "metadata": {},
   "outputs": [],
   "source": [
    "from tqdm import tqdm\n",
    "\n",
    "data = []\n",
    "rows = dataset['train']['text']\n",
    "for row in tqdm(rows):\n",
    "    data.append(row)\n",
    "\n",
    "print(len(\" \".join(data)))"
   ]
  },
  {
   "cell_type": "code",
   "execution_count": null,
   "id": "1e922faf",
   "metadata": {},
   "outputs": [],
   "source": [
    "with open(\"../data/AtlaSetCombined.txt\", \"w\") as f:\n",
    "    f.write(\" \".join(data))"
   ]
  },
  {
   "cell_type": "code",
   "execution_count": null,
   "id": "607261f2",
   "metadata": {},
   "outputs": [],
   "source": []
  }
 ],
 "metadata": {
  "language_info": {
   "name": "python"
  }
 },
 "nbformat": 4,
 "nbformat_minor": 5
}
