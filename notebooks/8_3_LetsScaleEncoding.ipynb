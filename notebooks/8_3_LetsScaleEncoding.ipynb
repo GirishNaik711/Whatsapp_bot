{
 "cells": [
  {
   "cell_type": "code",
   "execution_count": null,
   "id": "760ea3e2",
   "metadata": {},
   "outputs": [],
   "source": [
    "import sys\n",
    "sys.path.append('..')"
   ]
  },
  {
   "cell_type": "code",
   "execution_count": null,
   "id": "73ad97dc",
   "metadata": {},
   "outputs": [],
   "source": [
    "from minbpe import RegexTokenizer\n",
    "\n",
    "tokenizer = RegexTokenizer()\n",
    "tokenizer.load(model_file=\"../output/tokenizer/darija_tokenizer.model\")"
   ]
  },
  {
   "cell_type": "code",
   "execution_count": null,
   "id": "3388b10e",
   "metadata": {},
   "outputs": [],
   "source": [
    "encoded_text_sequence = []\n",
    "batch_size = 10_000_000\n",
    "file_path = \"path\"\n",
    "\n",
    "with open(file_path, \"r\") as f:\n",
    "    while True:\n",
    "        chunk = f.read(batch_size)\n",
    "        if not chunk:\n",
    "            break\n",
    "        \n",
    "        batch_tokens = tokenizer.encode(chunk)\n",
    "        encoded_text_sequence.extend(batch_tokens)\n",
    "        print(f\"Processed {len(encoded_text_sequence)} tokens so far.\")\n",
    "\n",
    "print(f\"Total tokens: {len(encoded_text_sequence)}\")"
   ]
  },
  {
   "cell_type": "code",
   "execution_count": null,
   "id": "bf4429cb",
   "metadata": {},
   "outputs": [],
   "source": [
    "import numpy as np\n",
    "\n",
    "output_path = \"../output/encoded_data/encoded_atlaset.npy\"\n",
    "np.save(output_path, np.array(encoded_text_sequence, dtype=np.int64))\n",
    "\n",
    "del encoded_text_sequence"
   ]
  }
 ],
 "metadata": {
  "language_info": {
   "name": "python"
  }
 },
 "nbformat": 4,
 "nbformat_minor": 5
}
