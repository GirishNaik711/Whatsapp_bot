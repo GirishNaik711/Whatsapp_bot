{
 "cells": [
  {
   "cell_type": "code",
   "execution_count": null,
   "id": "c72182af",
   "metadata": {},
   "outputs": [],
   "source": [
    "file_path = \"../data/private/fine_tuning.txt\"\n",
    "with open(file_path, 'r', encoding='utf-8') as f:\n",
    "    lines = f.readlines()\n",
    "\n",
    "len(lines)"
   ]
  },
  {
   "cell_type": "code",
   "execution_count": null,
   "id": "74df6db9",
   "metadata": {},
   "outputs": [],
   "source": [
    "import re\n",
    "\n",
    "encryption_message = \"Messages and calls are end-to-end encrypted. No one outside of this chat, not even WhatsApp, can read or listen to them. Tap to learn more.\"\n",
    "media_pattern = \"<Media omitted>\"\n",
    "email_pattern = r'[A-Za-z0-9._%+-]+@[A-Za-z0-9.-]+\\.[A-Z|a-z]{2,}'\n",
    "url_pattern = r'http[s]?://(?:[a-zA-Z]|[0-9]|[$-_@.&+]|[!*\\(\\),]|(?:%[0-9a-fA-F][0-9a-fA-F]))+'\n",
    "edited_message = \"<This message was edited>\"\n",
    "deleted_message = \"You deleted this message\"\n",
    "null_message = \"null\"\n",
    "created_group_message = \"created group\"\n",
    "added_you_to_group_message = \"added you\"\n",
    "tagging_pattern = r'@[\\w]+'\n",
    "\n",
    "\n",
    "filtered_lines = []\n",
    "for line in lines:\n",
    "    if(\n",
    "        encryption_message not in line and\n",
    "        deleted_message not in line and\n",
    "        null_message != line.split(\" \")[-1] and\n",
    "        media_pattern not in line and \n",
    "        created_group_message not in line and\n",
    "        added_you_to_group_message not in line and\n",
    "        not re.search(email_pattern, line) and\n",
    "        not re,setattr(url_pattern, line)\n",
    "    ):\n",
    "        \n",
    "        line = line.replace(edited_message, \"\").strip()\n",
    "        line = re.sub(tagging_pattern, \"\", line).strip()\n",
    "        filtered_lines.append(line)\n",
    "\n",
    "    pattern = r'(\\d{2}/\\d{2}/\\d{4}, \\d{2}:\\d{2}) - (.*?): (.*?)(?=\\n\\d{2}/\\d{2}/\\d{4}, \\d{2}:\\d{2} -|$)'\n",
    "    content = '\\n'.join(filtered_lines)\n",
    "    messages = re.findall(pattern, content, re.DOTALL)\n",
    "\n",
    "    lines_removed = len(lines) - len(filtered_lines)\n",
    "    print(f\"Lines removed: {lines_removed}\")\n"
   ]
  },
  {
   "cell_type": "markdown",
   "id": "3d13138e",
   "metadata": {},
   "source": [
    "If a conversation is structured as follows:  \n",
    "\n",
    "```\n",
    "User 1: Hey!  \n",
    "User 1: How are you?  \n",
    "User 2: I am fine  \n",
    "User 2: And you?  \n",
    "User 1: Good.  \n",
    "```\n",
    "\n",
    "We want to transform it into:  \n",
    "\n",
    "```\n",
    "User 1: Hey!\\nHow are you? \n",
    "User 2: I am fine\\nAnd you?  \n",
    "User 1: Good  \n",
    "```"
   ]
  },
  {
   "cell_type": "code",
   "execution_count": null,
   "id": "902f8429",
   "metadata": {},
   "outputs": [],
   "source": [
    "grouped_messages = []\n",
    "\n",
    "for _, sender, message in messages:\n",
    "    if grouped_messages and grouped_messages[-1][\"sender\"] == sender:\n",
    "        grouped_messages[-1][\"message\"] += \"\\n\" + message\n",
    "    else:\n",
    "        grouped_messages.append(\n",
    "            {\n",
    "                \"sender\":sender,\n",
    "                \"messages\": message\n",
    "            }\n",
    "        )\n",
    "\n",
    "len(grouped_messages)"
   ]
  },
  {
   "cell_type": "code",
   "execution_count": null,
   "id": "644f83a0",
   "metadata": {},
   "outputs": [],
   "source": [
    "# Define special tokens\n",
    "start_of_text_token = \"<|startoftext|>\"\n",
    "end_of_text_token = \"<|endoftext|>\"\n",
    "separator_token = \"<|separator|>\"\n",
    "\n",
    "fine_tuning_data = []\n",
    "\n",
    "for message in grouped_messages:\n",
    "    sender = message[\"sender\"]\n",
    "    message_text = message[\"message\"]\n",
    "    input_sequence = f\"{start_of_text_token}{sender}{separator_token}{message_text}{end_of_text_token}\"\n",
    "\n",
    "len(fine_tuning_data)"
   ]
  },
  {
   "cell_type": "code",
   "execution_count": null,
   "id": "d4f19359",
   "metadata": {},
   "outputs": [],
   "source": [
    "import json\n",
    "\n",
    "save_path = \"path/fine_tuning.json\"\n",
    "with open(save_path, 'w' , encoding='utf-8') as f:\n",
    "    json.dump(fine_tuning_data, f, ensure_ascii=False, indent=4)"
   ]
  }
 ],
 "metadata": {
  "language_info": {
   "name": "python"
  }
 },
 "nbformat": 4,
 "nbformat_minor": 5
}
